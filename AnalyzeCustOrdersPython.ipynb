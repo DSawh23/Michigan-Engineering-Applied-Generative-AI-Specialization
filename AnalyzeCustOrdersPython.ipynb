{
  "nbformat": 4,
  "nbformat_minor": 0,
  "metadata": {
    "colab": {
      "provenance": []
    },
    "kernelspec": {
      "name": "python3",
      "display_name": "Python 3"
    },
    "language_info": {
      "name": "python"
    }
  },
  "cells": [
    {
      "cell_type": "markdown",
      "source": [
        "Devindra Sawh\n",
        "\n",
        "\n",
        "\n",
        "ME-AGS: Python Refresher with AI --Project 2\n"
      ],
      "metadata": {
        "id": "F2b0aemUxaU2"
      }
    },
    {
      "cell_type": "code",
      "metadata": {
        "id": "54ce4734"
      },
      "source": [
        "#Task 1 - Store Customer Ordres\n",
        "# initialize list for customers\n",
        "customer_name = []\n",
        "\n",
        "\n",
        "\n",
        "# Create a dictionary to organize orders by customer\n",
        "\n",
        "customer_orders = {}  # store each customer's order details (customer name, all_products, product_prices, category_products) as tuples inside a list\n",
        "\n",
        "\n"
      ],
      "execution_count": null,
      "outputs": []
    },
    {
      "cell_type": "markdown",
      "source": [],
      "metadata": {
        "id": "-0C3JS8mxZi9"
      }
    },
    {
      "cell_type": "code",
      "source": [
        "#Classify products by categories\n",
        "\n",
        "\n",
        "# Categories\n",
        "categories = [\"Electronics\",\"Clothing\",\"Books\",\"Groceries\",\"Home & Kitchen\",\"Toys & Games\",\"Beauty & Personal Care\",\"Sports & Outdoors\",\"Automotive\",\"Health & Wellness\"]\n",
        "\n",
        "\n",
        "\n",
        "# Print just the keys (categories)\n",
        "print(category_dict.keys())\n"
      ],
      "metadata": {
        "id": "H5RwAk_4it5C"
      },
      "execution_count": null,
      "outputs": []
    },
    {
      "cell_type": "code",
      "metadata": {
        "colab": {
          "base_uri": "https://localhost:8080/"
        },
        "id": "711a2cb0",
        "outputId": "1125319c-b8dc-4c3f-c2d5-c7ebc8c810fa"
      },
      "source": [
        "# Create a dictionary to map products to categories\n",
        "category_products = {}\n",
        "\n",
        "# all the categories to products\n",
        "category_products[\"Electronics\"] = [\"Laptop\", \"Smartphone\", \"Tablet\", \"Headphones\"]\n",
        "category_products[\"Clothing\"] = [\"T-Shirt\", \"Jeans\", \"Jacket\", \"Socks\"]\n",
        "category_products[\"Books\"] = [\"Novel\", \"Textbook\", \"Cookbook\", \"Magazine\"]\n",
        "category_products[\"Groceries\"] = [\"Milk\", \"Bread\", \"Eggs\", \"Cheese\"]\n",
        "category_products[\"Home & Kitchen\"] = [\"Blender\", \"Toaster\", \"Mug\", \"Plate\"]\n",
        "category_products[\"Toys & Games\"] = [\"Action Figure\", \"Board Game\", \"Puzzle\", \"Building Blocks\"]\n",
        "category_products[\"Beauty & Personal Care\"] = [\"Shampoo\", \"Soap\", \"Lotion\", \"Toothpaste\"]\n",
        "category_products[\"Sports & Outdoors\"] = [\"Running Shoes\", \"Water Bottle\", \"Yoga Mat\", \"Jump Rope\"]\n",
        "category_products[\"Automotive\"] = [\"Car Wax\", \"Tire Inflator\", \"Jumper Cables\", \"Air Freshener\"]\n",
        "category_products[\"Health & Wellness\"] = [\"Vitamins\", \"Protein Powder\", \"First Aid Kit\", \"Hand Sanitizer\"]\n",
        "\n",
        "# use this as a look up later for what category the product is mapped to\n",
        "product2category = {product: category for category, products in category_products.items() for product in products}\n",
        "\n",
        "# Display the dictionary--> prod categories\n",
        "print(category_products.keys())\n",
        "print(product2category)"
      ],
      "execution_count": null,
      "outputs": [
        {
          "output_type": "stream",
          "name": "stdout",
          "text": [
            "dict_keys(['Electronics', 'Clothing', 'Books', 'Groceries', 'Home & Kitchen', 'Toys & Games', 'Beauty & Personal Care', 'Sports & Outdoors', 'Automotive', 'Health & Wellness'])\n",
            "{'Laptop': 'Electronics', 'Smartphone': 'Electronics', 'Tablet': 'Electronics', 'Headphones': 'Electronics', 'T-Shirt': 'Clothing', 'Jeans': 'Clothing', 'Jacket': 'Clothing', 'Socks': 'Clothing', 'Novel': 'Books', 'Textbook': 'Books', 'Cookbook': 'Books', 'Magazine': 'Books', 'Milk': 'Groceries', 'Bread': 'Groceries', 'Eggs': 'Groceries', 'Cheese': 'Groceries', 'Blender': 'Home & Kitchen', 'Toaster': 'Home & Kitchen', 'Mug': 'Home & Kitchen', 'Plate': 'Home & Kitchen', 'Action Figure': 'Toys & Games', 'Board Game': 'Toys & Games', 'Puzzle': 'Toys & Games', 'Building Blocks': 'Toys & Games', 'Shampoo': 'Beauty & Personal Care', 'Soap': 'Beauty & Personal Care', 'Lotion': 'Beauty & Personal Care', 'Toothpaste': 'Beauty & Personal Care', 'Running Shoes': 'Sports & Outdoors', 'Water Bottle': 'Sports & Outdoors', 'Yoga Mat': 'Sports & Outdoors', 'Jump Rope': 'Sports & Outdoors', 'Car Wax': 'Automotive', 'Tire Inflator': 'Automotive', 'Jumper Cables': 'Automotive', 'Air Freshener': 'Automotive', 'Vitamins': 'Health & Wellness', 'Protein Powder': 'Health & Wellness', 'First Aid Kit': 'Health & Wellness', 'Hand Sanitizer': 'Health & Wellness'}\n"
          ]
        }
      ]
    },
    {
      "cell_type": "code",
      "source": [
        "#3 Analyze Customer Orders\n",
        "\n",
        "#need to create a price mapping for each product\n",
        "all_products = []\n",
        "for products_list in category_products.values():\n",
        "    all_products.extend(products_list)\n",
        "print(all_products)\n",
        "\n",
        "product_prices = {}\n",
        "product_prices = {\n",
        "    'Laptop': 1200,\n",
        "    'Smartphone': 800,\n",
        "    'Tablet': 300,\n",
        "    'Headphones': 150,\n",
        "    'T-Shirt': 20,\n",
        "    'Jeans': 50,\n",
        "    'Jacket': 100,\n",
        "    'Socks': 5,\n",
        "    'Novel': 15,\n",
        "    'Textbook': 75,\n",
        "    'Cookbook': 30,\n",
        "    'Magazine': 10,\n",
        "    'Milk': 3,\n",
        "    'Bread': 4,\n",
        "    'Eggs': 5,\n",
        "    'Cheese': 6,\n",
        "    'Blender': 50,\n",
        "    'Toaster': 40,\n",
        "    'Mug': 10,\n",
        "    'Plate': 15,\n",
        "    'Action Figure': 25,\n",
        "    'Board Game': 35,\n",
        "    'Puzzle': 20,\n",
        "    'Building Blocks': 60,\n",
        "    'Shampoo': 12,\n",
        "    'Soap': 5,\n",
        "    'Lotion': 8,\n",
        "    'Toothpaste': 4,\n",
        "    'Running Shoes': 80,\n",
        "    'Water Bottle': 15,\n",
        "    'Yoga Mat': 30,\n",
        "    'Jump Rope': 10,\n",
        "    'Car Wax': 25,\n",
        "    'Tire Inflator': 40,\n",
        "    'Jumper Cables': 20,\n",
        "    'Air Freshener': 5,\n",
        "    'Vitamins': 20,\n",
        "    'Protein Powder': 40,\n",
        "    'First Aid Kit': 30,\n",
        "    'Hand Sanitizer': 5\n",
        "}\n",
        "print(product_prices)"
      ],
      "metadata": {
        "colab": {
          "base_uri": "https://localhost:8080/"
        },
        "id": "duAfShalk8mx",
        "outputId": "ba1ec389-8844-4a00-8ff5-a526d7b3190f"
      },
      "execution_count": null,
      "outputs": [
        {
          "output_type": "stream",
          "name": "stdout",
          "text": [
            "['Laptop', 'Smartphone', 'Tablet', 'Headphones', 'T-Shirt', 'Jeans', 'Jacket', 'Socks', 'Novel', 'Textbook', 'Cookbook', 'Magazine', 'Milk', 'Bread', 'Eggs', 'Cheese', 'Blender', 'Toaster', 'Mug', 'Plate', 'Action Figure', 'Board Game', 'Puzzle', 'Building Blocks', 'Shampoo', 'Soap', 'Lotion', 'Toothpaste', 'Running Shoes', 'Water Bottle', 'Yoga Mat', 'Jump Rope', 'Car Wax', 'Tire Inflator', 'Jumper Cables', 'Air Freshener', 'Vitamins', 'Protein Powder', 'First Aid Kit', 'Hand Sanitizer']\n",
            "{'Laptop': 1200, 'Smartphone': 800, 'Tablet': 300, 'Headphones': 150, 'T-Shirt': 20, 'Jeans': 50, 'Jacket': 100, 'Socks': 5, 'Novel': 15, 'Textbook': 75, 'Cookbook': 30, 'Magazine': 10, 'Milk': 3, 'Bread': 4, 'Eggs': 5, 'Cheese': 6, 'Blender': 50, 'Toaster': 40, 'Mug': 10, 'Plate': 15, 'Action Figure': 25, 'Board Game': 35, 'Puzzle': 20, 'Building Blocks': 60, 'Shampoo': 12, 'Soap': 5, 'Lotion': 8, 'Toothpaste': 4, 'Running Shoes': 80, 'Water Bottle': 15, 'Yoga Mat': 30, 'Jump Rope': 10, 'Car Wax': 25, 'Tire Inflator': 40, 'Jumper Cables': 20, 'Air Freshener': 5, 'Vitamins': 20, 'Protein Powder': 40, 'First Aid Kit': 30, 'Hand Sanitizer': 5}\n"
          ]
        }
      ]
    },
    {
      "cell_type": "code",
      "source": [
        "\n"
      ],
      "metadata": {
        "id": "lMcubOlKl7C8"
      },
      "execution_count": null,
      "outputs": []
    },
    {
      "cell_type": "markdown",
      "metadata": {
        "id": "e28e9048"
      },
      "source": [
        "# 3. Analyze Customer Orders"
      ]
    },
    {
      "cell_type": "code",
      "metadata": {
        "colab": {
          "base_uri": "https://localhost:8080/"
        },
        "id": "5ab2c41c",
        "outputId": "3ca7c419-25f6-40e0-c8b4-fdd0a16497fb"
      },
      "source": [
        "#generate cutomers corders\n",
        "customer_orders = [\n",
        "    (\"Alice\", \"Laptop\", product_prices[\"Laptop\"], product2category[\"Laptop\"]),\n",
        "    (\"Alice\", \"Jeans\", product_prices[\"Jeans\"], product2category[\"Jeans\"]),\n",
        "    (\"Bob\", \"Milk\", product_prices[\"Milk\"], product2category[\"Milk\"]),\n",
        "    (\"Bob\", \"Novel\", product_prices[\"Novel\"], product2category[\"Novel\"]),\n",
        "    (\"Charlie\", \"Running Shoes\", product_prices[\"Running Shoes\"], product2category[\"Running Shoes\"]),\n",
        "    (\"Charlie\", \"Shampoo\", product_prices[\"Shampoo\"], product2category[\"Shampoo\"]),\n",
        "    (\"Alice\", \"Headphones\", product_prices[\"Headphones\"], product2category[\"Headphones\"])\n",
        "]\n",
        "\n",
        "print(customer_orders)"
      ],
      "execution_count": null,
      "outputs": [
        {
          "output_type": "stream",
          "name": "stdout",
          "text": [
            "[('Alice', 'Laptop', 1200, 'Electronics'), ('Alice', 'Jeans', 50, 'Clothing'), ('Bob', 'Milk', 3, 'Groceries'), ('Bob', 'Novel', 15, 'Books'), ('Charlie', 'Running Shoes', 80, 'Sports & Outdoors'), ('Charlie', 'Shampoo', 12, 'Beauty & Personal Care'), ('Alice', 'Headphones', 150, 'Electronics')]\n"
          ]
        }
      ]
    },
    {
      "cell_type": "code",
      "source": [
        "#calculate total amount per customer\n",
        "customer_totals = {}  #create dict to store each customer as a key and then start adding the purchase totals\n",
        "\n",
        "for order in customer_orders:\n",
        "    customer_name = order[0]  #index first value in list to get name\n",
        "    product_price = order[2]  #index third value to get price\n",
        "\n",
        "    if customer_name in customer_totals:\n",
        "        customer_totals[customer_name] += product_price  #existing customer gets their current total increased by latest order\n",
        "    else:\n",
        "        customer_totals[customer_name] = product_price  #add customer for the first time to dictionary\n",
        "\n",
        "print(customer_totals)\n",
        "\n",
        "#classify customers by their totals\n",
        "\n",
        "\n",
        "customer_classification = {} # store customer classifications\n",
        "\n",
        "# Iterate through customer_totals and classify customers\n",
        "for customer, total_spending in customer_totals.items():   # customer name and then total spent\n",
        "    if total_spending > 100:  #high_value_threshold\n",
        "        customer_classification[customer] = \"High-Value Buyer\"\n",
        "    elif total_spending >= 50 and total_spending <= 100: #Moderate Buyer\n",
        "        customer_classification[customer] = \"Moderate Buyer \"\n",
        "    else:\n",
        "        customer_classification[customer] = \"Low-Value Buyer\" #Low-Value buyer\n",
        "print(customer_classification)\n"
      ],
      "metadata": {
        "colab": {
          "base_uri": "https://localhost:8080/"
        },
        "id": "OnS0xadmq6_y",
        "outputId": "0003d7fb-3eca-4c16-aa7e-39c4f3383b26"
      },
      "execution_count": null,
      "outputs": [
        {
          "output_type": "stream",
          "name": "stdout",
          "text": [
            "{'Alice': 1400, 'Bob': 18, 'Charlie': 92}\n",
            "{'Alice': 'High-Value Buyer', 'Bob': 'Low-Value Buyer', 'Charlie': 'Moderate Buyer '}\n"
          ]
        }
      ]
    },
    {
      "cell_type": "markdown",
      "source": [
        "# 4. Generate Business Insights"
      ],
      "metadata": {
        "id": "rRN4agIdtWes"
      }
    },
    {
      "cell_type": "code",
      "source": [
        "#same as before, create a dict to story the total for categories\n",
        "category_revenue = {}\n",
        "\n",
        "for order in customer_orders:\n",
        "    category = order[3]  #using the 4 value\n",
        "    price = order[2]  #same as previous to get price\n",
        "\n",
        "    if category in category_revenue:\n",
        "        category_revenue[category] += price  #incrementally increases by latest order\n",
        "    else:\n",
        "        category_revenue[category] = price  #adds category for the first time\n",
        "\n",
        "print(category_revenue)\n",
        "\n",
        "unique_products = set()  #initalize set object to get list of the products that are ordered\n",
        "\n",
        "for order in customer_orders:  #iterate thru and get all the products.  this could of been done with a list too.\n",
        "    product_name = order[1]\n",
        "    unique_products.add(product_name)\n",
        "\n",
        "print(unique_products)\n",
        "\n",
        "# looking up any customers that bought electonrics but intializing list object\n",
        "electronics_customers = []\n",
        "\n",
        "for order in customer_orders:\n",
        "    customer_name = order[0]\n",
        "    category = order[3]\n",
        "\n",
        "    if category == 'Electronics' and customer_name not in electronics_customers:\n",
        "        electronics_customers.append(customer_name)\n",
        "\n",
        "print(electronics_customers)\n",
        "\n",
        "\n",
        "# show top three\n",
        "\n",
        "print(\"Top 3 Customers by total sum:\")\n",
        "for customer in sorted(customer_totals, key=customer_totals.get, reverse=True)[:3]:\n",
        "    print(f\"{customer}: {customer_totals[customer]}\")"
      ],
      "metadata": {
        "colab": {
          "base_uri": "https://localhost:8080/"
        },
        "id": "CBiBMufbtdVa",
        "outputId": "a38f2283-0e78-418e-8eae-29f9ad3c4023"
      },
      "execution_count": null,
      "outputs": [
        {
          "output_type": "stream",
          "name": "stdout",
          "text": [
            "{'Electronics': 1350, 'Clothing': 50, 'Groceries': 3, 'Books': 15, 'Sports & Outdoors': 80, 'Beauty & Personal Care': 12}\n",
            "{'Laptop', 'Shampoo', 'Milk', 'Jeans', 'Running Shoes', 'Headphones', 'Novel'}\n",
            "['Alice']\n",
            "Top 3 Customers by total sum:\n",
            "Alice: 1400\n",
            "Charlie: 92\n",
            "Bob: 18\n"
          ]
        }
      ]
    },
    {
      "cell_type": "markdown",
      "source": [
        "#5. Organize and Display data\n"
      ],
      "metadata": {
        "id": "8JHlvKtnv4Xk"
      }
    },
    {
      "cell_type": "code",
      "source": [
        "#Summary of Customer total and classification\n",
        "print(\"Customer Totals:\")\n",
        "for customer, total_spending in customer_totals.items():\n",
        "    print(f\"{customer}: {total_spending}\")\n",
        "\n",
        "print(\"\\nCustomer Classifications:\")\n",
        "for customer, classification in customer_classification.items():\n",
        "    print(f\"{customer}: {classification}\")\n",
        "\n",
        "#Use set operations to find customers who purchased from multiple categories\n",
        "customer_categories = {}\n",
        "\n",
        "for order in customer_orders:\n",
        "    customer_name = order[0]\n",
        "    category = order[3]\n",
        "\n",
        "    if customer_name not in customer_categories:\n",
        "        customer_categories[customer_name] = set()\n",
        "    customer_categories[customer_name].add(category)\n",
        "\n",
        "customers_multiple_categories = []\n",
        "for customer, categories in customer_categories.items():\n",
        "    if len(categories) > 1:\n",
        "        customers_multiple_categories.append(customer)\n",
        "print()\n",
        "print()\n",
        "print(\"Customers with multiple categories:\")\n",
        "print(customers_multiple_categories)\n",
        "\n",
        "\n",
        "#Identify common customers who bought both electronics and clothing\n",
        "electronics_customers_set = set()\n",
        "clothing_customers_set = set()\n",
        "\n",
        "for order in customer_orders:\n",
        "    customer_name = order[0]\n",
        "    category = order[3]\n",
        "\n",
        "    if category == 'Electronics':\n",
        "        electronics_customers_set.add(customer_name)\n",
        "    elif category == 'Clothing':\n",
        "        clothing_customers_set.add(customer_name)\n",
        "\n",
        "customers_electronics_and_clothing = electronics_customers_set.intersection(clothing_customers_set)\n",
        "\n",
        "print(\"Customers who bought Electronics:\")\n",
        "print(electronics_customers_set)\n",
        "print(\"\\nCustomers who bought Clothing:\")\n",
        "print(clothing_customers_set)\n",
        "print(\"\\nCustomers who bought both Electronics and Clothing:\")\n",
        "print(customers_electronics_and_clothing)\n"
      ],
      "metadata": {
        "colab": {
          "base_uri": "https://localhost:8080/"
        },
        "id": "NebsLp10v8TK",
        "outputId": "13ef07fe-6517-4cfa-a389-5e5b90d0324e"
      },
      "execution_count": null,
      "outputs": [
        {
          "output_type": "stream",
          "name": "stdout",
          "text": [
            "Customer Totals:\n",
            "Alice: 1400\n",
            "Bob: 18\n",
            "Charlie: 92\n",
            "\n",
            "Customer Classifications:\n",
            "Alice: High-Value Buyer\n",
            "Bob: Low-Value Buyer\n",
            "Charlie: Moderate Buyer \n",
            "\n",
            "\n",
            "Customers with multiple categories:\n",
            "['Alice', 'Bob', 'Charlie']\n",
            "Customers who bought Electronics:\n",
            "{'Alice'}\n",
            "\n",
            "Customers who bought Clothing:\n",
            "{'Alice'}\n",
            "\n",
            "Customers who bought both Electronics and Clothing:\n",
            "{'Alice'}\n"
          ]
        }
      ]
    }
  ]
}